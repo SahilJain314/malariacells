{
 "cells": [
  {
   "cell_type": "code",
   "execution_count": 25,
   "metadata": {},
   "outputs": [
    {
     "name": "stdout",
     "output_type": "stream",
     "text": [
      "['cell_images']\n"
     ]
    }
   ],
   "source": [
    "import numpy as np #lin. Alg.\n",
    "import pandas as pd #data processing\n",
    "import matplotlib.pyplot as plt\n",
    "import matplotlib.image as matimg\n",
    "\n",
    "#importing keras modules\n",
    "import keras\n",
    "from keras.models import Sequential\n",
    "from keras.layers import Flatten\n",
    "from keras.layers import Dense\n",
    "from keras.layers import Conv2D\n",
    "from keras.layers import MaxPooling2D, GlobalAveragePooling2D\n",
    "from keras.layers import Dropout\n",
    "from keras.layers import Activation\n",
    "from keras.models import load_model\n",
    "from keras import backend as K\n",
    "from keras import optimizers\n",
    "\n",
    "#Python Image Library for image processing\n",
    "from PIL import Image\n",
    "\n",
    "import os\n",
    "\n",
    "#Path of parasite and uninfected folders\n",
    "image_path=\"D:malariaData/cell_images/\"\n",
    "\n",
    "\n"
   ]
  },
  {
   "cell_type": "code",
   "execution_count": 78,
   "metadata": {},
   "outputs": [],
   "source": [
    "EXT = \".png\"\n",
    "WIDTH = 50 #Width of the transformed image\n",
    "SIZE = (WIDTH, WIDTH) #Square final image\n",
    "NUM_IMAGES = 13780 \n",
    "AMOUNT_TRAIN = .8\n",
    "\n",
    "#Splitting data into test and train sets\n",
    "xtrain = []\n",
    "xtest = []\n",
    "ytrain = []\n",
    "ytest = []\n",
    "\n",
    "#Opens particular image, resizes it, and returns a numpy array of it\n",
    "def get_im_array(f, size):\n",
    "    im = Image.open(f).resize(size)\n",
    "    return np.array(im)\n",
    "\n",
    "#directories of infected and uninfected images\n",
    "par_dir = image_path + 'Parasitized/'\n",
    "uninf_dir = image_path+ 'Uninfected/'\n",
    "\n",
    "#files in each directory\n",
    "par_im_files = os.listdir(par_dir)\n",
    "un_im_files = os.listdir(uninf_dir)\n",
    "\n",
    "\n",
    "\n",
    "i = 1 #iterator\n",
    "\n",
    "\n",
    "for f in par_im_files:\n",
    "    if f.endswith(EXT):\n",
    "        if i <= NUM_IMAGES*AMOUNT_TRAIN:\n",
    "            xtrain.append(get_im_array(par_dir+f, SIZE))\n",
    "            ytrain.append(1)\n",
    "        else:\n",
    "            xtest.append(get_im_array(par_dir+f, SIZE))\n",
    "            ytest.append(1)\n",
    "    i+=1\n",
    "\n",
    "i = 1\n",
    "\n",
    "for f in un_im_files:\n",
    "    if f.endswith(EXT):\n",
    "        if i <= NUM_IMAGES*AMOUNT_TRAIN:\n",
    "            xtrain.append(get_im_array(uninf_dir+f, SIZE))\n",
    "            ytrain.append(0)\n",
    "        else:\n",
    "            xtest.append(get_im_array(uninf_dir+f, SIZE))\n",
    "            ytest.append(0)\n",
    "    i+=1\n",
    "\n",
    "\n",
    "X_train = np.array(xtrain)\n",
    "y_train = np.array(ytrain)\n",
    "X_test = np.array(xtest)\n",
    "y_test = np.array(ytest)\n",
    "\n",
    "x_train = X_train.reshape(X_train.shape[0], 50, 50, 3)/255.\n",
    "x_test = X_test.reshape(X_test.shape[0], 50, 50, 3)/255.\n",
    "\n"
   ]
  },
  {
   "cell_type": "code",
   "execution_count": 81,
   "metadata": {},
   "outputs": [],
   "source": [
    "#HyperParamters\n",
    "#Max Pooling Sizes\n",
    "m_1 = 2\n",
    "m_4 = 2\n",
    "#Dropout values of the layers\n",
    "d_1 = .3\n",
    "d_2 = .2\n",
    "#kernel sizes\n",
    "k_1 = 3\n",
    "k_2 = 3\n",
    "k_3 = 3\n",
    "k_4 = 3\n",
    "#Convolution layer sizes\n",
    "c_1 = 32\n",
    "c_2 = 64\n",
    "c_3 = 64\n",
    "c_4 = 32\n"
   ]
  },
  {
   "cell_type": "code",
   "execution_count": 83,
   "metadata": {},
   "outputs": [
    {
     "name": "stdout",
     "output_type": "stream",
     "text": [
      "_________________________________________________________________\n",
      "Layer (type)                 Output Shape              Param #   \n",
      "=================================================================\n",
      "conv2d_21 (Conv2D)           (None, 50, 50, 32)        896       \n",
      "_________________________________________________________________\n",
      "max_pooling2d_12 (MaxPooling (None, 25, 25, 32)        0         \n",
      "_________________________________________________________________\n",
      "conv2d_22 (Conv2D)           (None, 25, 25, 64)        18496     \n",
      "_________________________________________________________________\n",
      "conv2d_23 (Conv2D)           (None, 25, 25, 64)        36928     \n",
      "_________________________________________________________________\n",
      "conv2d_24 (Conv2D)           (None, 25, 25, 32)        18464     \n",
      "_________________________________________________________________\n",
      "max_pooling2d_13 (MaxPooling (None, 12, 12, 32)        0         \n",
      "_________________________________________________________________\n",
      "flatten_6 (Flatten)          (None, 4608)              0         \n",
      "_________________________________________________________________\n",
      "dropout_11 (Dropout)         (None, 4608)              0         \n",
      "_________________________________________________________________\n",
      "dense_11 (Dense)             (None, 128)               589952    \n",
      "_________________________________________________________________\n",
      "dropout_12 (Dropout)         (None, 128)               0         \n",
      "_________________________________________________________________\n",
      "dense_12 (Dense)             (None, 1)                 129       \n",
      "=================================================================\n",
      "Total params: 664,865\n",
      "Trainable params: 664,865\n",
      "Non-trainable params: 0\n",
      "_________________________________________________________________\n"
     ]
    }
   ],
   "source": [
    "data_format = 'channels_last'\n",
    "\n",
    "#Building model\n",
    "model = Sequential()\n",
    "\n",
    "#Block1\n",
    "model.add(Conv2D(c_1, kernel_size=(k_1, k_1), input_shape=x_train.shape[1:], activation='relu', padding='same'))\n",
    "model.add(MaxPooling2D(pool_size=(m_1,m_1)))\n",
    "\n",
    "#Block2\n",
    "model.add(Conv2D(c_2, kernel_size=(k_2, k_2), activation='relu', padding='same'))\n",
    "\n",
    "#Block3\n",
    "model.add(Conv2D(c_3, kernel_size=(k_3, k_3), activation='relu', padding='same'))\n",
    "\n",
    "#Block4\n",
    "model.add(Conv2D(c_4, kernel_size=(k_4, k_4), activation='relu', padding='same'))\n",
    "model.add(MaxPooling2D(pool_size=(m_4,m_4)))\n",
    "\n",
    "#Block5\n",
    "model.add(Flatten())\n",
    "model.add(Dropout(n1))\n",
    "model.add(Dense(128, activation='relu'))\n",
    "\n",
    "#Block6\n",
    "model.add(Dropout(n2))\n",
    "model.add(Dense(1, activation='sigmoid'))\n",
    "\n",
    "#Compiling the model\n",
    "model.compile(keras.optimizers.Adam(), loss=keras.losses.binary_crossentropy, metrics=['accuracy'])\n",
    "\n",
    "keras.utils.print_summary(model)"
   ]
  },
  {
   "cell_type": "code",
   "execution_count": 30,
   "metadata": {},
   "outputs": [
    {
     "name": "stdout",
     "output_type": "stream",
     "text": [
      "Train on 22048 samples, validate on 5510 samples\n",
      "Epoch 1/1\n",
      "22048/22048 [==============================] - 54s 2ms/step - loss: 0.1323 - acc: 0.9553 - val_loss: 0.1444 - val_acc: 0.9532\n"
     ]
    }
   ],
   "source": [
    "#Number of epochs to train with\n",
    "epoch_num = 25\n",
    "\n",
    "model_log = model.fit(x_train, y_train, epochs=epoch_num, batch_size=2000, verbose=1, validation_data=(x_test, y_test), shuffle=True)"
   ]
  },
  {
   "cell_type": "code",
   "execution_count": 87,
   "metadata": {
    "scrolled": true
   },
   "outputs": [
    {
     "data": {
      "image/png": "[encoded data removed]",
      "text/plain": [
       "<Figure size 432x288 with 1 Axes>"
      ]
     },
     "metadata": {
      "needs_background": "light"
     },
     "output_type": "display_data"
    }
   ],
   "source": [
    "#Plot accuracy vs Epochs\n",
    "plt.plot(model_log.history['acc'])\n",
    "plt.plot(model_log.history['val_acc'])\n",
    "plt.title('model accuracy')\n",
    "plt.ylabel('accuracy')\n",
    "plt.xlabel('epoch')\n",
    "plt.legend(['train', 'test'], loc='upper left')\n",
    "plt.show()\n"
   ]
  },
  {
   "cell_type": "code",
   "execution_count": 32,
   "metadata": {},
   "outputs": [],
   "source": [
    "#Save a Keras model as an .h5 file\n",
    "model.save('malaria_model.h5')"
   ]
  },
  {
   "cell_type": "code",
   "execution_count": 85,
   "metadata": {},
   "outputs": [],
   "source": [
    "#Load a Keras model from a .h5 file\n",
    "model = load_model('malaria_model.h5')"
   ]
  },
  {
   "cell_type": "code",
   "execution_count": 90,
   "metadata": {},
   "outputs": [
    {
     "name": "stdout",
     "output_type": "stream",
     "text": [
      "Prediction: \n",
      "[[0.999987]]\n",
      "\n",
      "Correct: \n",
      "1\n"
     ]
    },
    {
     "data": {
      "image/png": "[encoded data removed]",
      "text/plain": [
       "<Figure size 432x288 with 1 Axes>"
      ]
     },
     "metadata": {
      "needs_background": "light"
     },
     "output_type": "display_data"
    }
   ],
   "source": [
    "#Shows the image and prediction for the 'view_num' element of the test set.\n",
    "view_num = 100\n",
    "\n",
    "print('Prediction: ')\n",
    "print(model.predict(x_test[view_num:view_num+1]))\n",
    "print()\n",
    "print('Correct: ')\n",
    "print(y_test[view_num])\n",
    "\n",
    "#Displays the image\n",
    "img = Image.fromarray((X_test.reshape(X_test.shape[0], 50, 50, 3))[view_num], 'RGB')\n",
    "im_array = np.asarray(img)\n",
    "plt.imshow(im_array)\n",
    "plt.show()\n"
   ]
  },
  {
   "cell_type": "code",
   "execution_count": null,
   "metadata": {},
   "outputs": [],
   "source": []
  }
 ],
 "metadata": {
  "kernelspec": {
   "display_name": "Python 3",
   "language": "python",
   "name": "python3"
  },
  "language_info": {
   "codemirror_mode": {
    "name": "ipython",
    "version": 3
   },
   "file_extension": ".py",
   "mimetype": "text/x-python",
   "name": "python",
   "nbconvert_exporter": "python",
   "pygments_lexer": "ipython3",
   "version": "3.6.8"
  }
 },
 "nbformat": 4,
 "nbformat_minor": 2
}
