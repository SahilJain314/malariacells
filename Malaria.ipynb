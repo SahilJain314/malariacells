{
 "cells": [
  {
   "cell_type": "code",
   "execution_count": 1,
   "metadata": {},
   "outputs": [
    {
     "name": "stderr",
     "output_type": "stream",
     "text": [
      "Using TensorFlow backend.\n"
     ]
    }
   ],
   "source": [
    "import numpy as np #lin. Alg.\n",
    "import pandas as pd #data processing\n",
    "import matplotlib.pyplot as plt\n",
    "import matplotlib.image as matimg\n",
    "\n",
    "#importing keras modules\n",
    "import keras\n",
    "from keras.models import Sequential\n",
    "from keras.layers import Flatten\n",
    "from keras.layers import Dense\n",
    "from keras.layers import Conv2D\n",
    "from keras.layers import MaxPooling2D, GlobalAveragePooling2D\n",
    "from keras.layers import Dropout\n",
    "from keras.layers import Activation\n",
    "from keras.models import load_model\n",
    "from keras import backend as K\n",
    "from keras import optimizers\n",
    "\n",
    "#Python Image Library for image processing\n",
    "from PIL import Image\n",
    "\n",
    "import os\n",
    "\n",
    "#Path of parasite and uninfected folders\n",
    "image_path=\"D:malariaData/cell_images/\"\n",
    "\n",
    "\n"
   ]
  },
  {
   "cell_type": "code",
   "execution_count": 2,
   "metadata": {},
   "outputs": [],
   "source": [
    "EXT = \".png\"\n",
    "WIDTH = 50 #Width of the transformed image\n",
    "SIZE = (WIDTH, WIDTH) #Square final image\n",
    "NUM_IMAGES = 13780 \n",
    "AMOUNT_TRAIN = .8\n",
    "\n",
    "#Splitting data into test and train sets\n",
    "xtrain = []\n",
    "xtest = []\n",
    "ytrain = []\n",
    "ytest = []\n",
    "\n",
    "#Opens particular image, resizes it, and returns a numpy array of it\n",
    "def get_im_array(f, size):\n",
    "    im = Image.open(f).resize(size)\n",
    "    return np.array(im)\n",
    "\n",
    "#directories of infected and uninfected images\n",
    "par_dir = image_path + 'Parasitized/'\n",
    "uninf_dir = image_path+ 'Uninfected/'\n",
    "\n",
    "#files in each directory\n",
    "par_im_files = os.listdir(par_dir)\n",
    "un_im_files = os.listdir(uninf_dir)\n",
    "\n",
    "\n",
    "\n",
    "i = 1 #iterator\n",
    "\n",
    "\n",
    "for f in par_im_files:\n",
    "    if f.endswith(EXT):\n",
    "        if i <= NUM_IMAGES*AMOUNT_TRAIN:\n",
    "            xtrain.append(get_im_array(par_dir+f, SIZE))\n",
    "            ytrain.append(1)\n",
    "        else:\n",
    "            xtest.append(get_im_array(par_dir+f, SIZE))\n",
    "            ytest.append(1)\n",
    "    i+=1\n",
    "\n",
    "i = 1\n",
    "\n",
    "for f in un_im_files:\n",
    "    if f.endswith(EXT):\n",
    "        if i <= NUM_IMAGES*AMOUNT_TRAIN:\n",
    "            xtrain.append(get_im_array(uninf_dir+f, SIZE))\n",
    "            ytrain.append(0)\n",
    "        else:\n",
    "            xtest.append(get_im_array(uninf_dir+f, SIZE))\n",
    "            ytest.append(0)\n",
    "    i+=1\n",
    "\n",
    "\n",
    "X_train = np.array(xtrain)\n",
    "y_train = np.array(ytrain)\n",
    "X_test = np.array(xtest)\n",
    "y_test = np.array(ytest)\n",
    "\n",
    "x_train = X_train.reshape(X_train.shape[0], 50, 50, 3)/255.\n",
    "x_test = X_test.reshape(X_test.shape[0], 50, 50, 3)/255.\n",
    "\n"
   ]
  },
  {
   "cell_type": "code",
   "execution_count": 3,
   "metadata": {},
   "outputs": [],
   "source": [
    "#HyperParamters\n",
    "#Max Pooling Sizes\n",
    "m_1 = 2\n",
    "m_4 = 2\n",
    "#Dropout values of the layers\n",
    "d_1 = .3\n",
    "d_2 = .2\n",
    "#kernel sizes\n",
    "k_1 = 3\n",
    "k_2 = 3\n",
    "k_3 = 3\n",
    "k_4 = 3\n",
    "#Convolution layer sizes\n",
    "c_1 = 32\n",
    "c_2 = 64\n",
    "c_3 = 64\n",
    "c_4 = 32\n"
   ]
  },
  {
   "cell_type": "code",
   "execution_count": 5,
   "metadata": {},
   "outputs": [
    {
     "name": "stdout",
     "output_type": "stream",
     "text": [
      "WARNING:tensorflow:From C:\\Users\\sahil\\Anaconda3\\envs\\deeplearning\\lib\\site-packages\\keras\\backend\\tensorflow_backend.py:3445: calling dropout (from tensorflow.python.ops.nn_ops) with keep_prob is deprecated and will be removed in a future version.\n",
      "Instructions for updating:\n",
      "Please use `rate` instead of `keep_prob`. Rate should be set to `rate = 1 - keep_prob`.\n",
      "_________________________________________________________________\n",
      "Layer (type)                 Output Shape              Param #   \n",
      "=================================================================\n",
      "conv2d_5 (Conv2D)            (None, 50, 50, 32)        896       \n",
      "_________________________________________________________________\n",
      "max_pooling2d_3 (MaxPooling2 (None, 25, 25, 32)        0         \n",
      "_________________________________________________________________\n",
      "conv2d_6 (Conv2D)            (None, 25, 25, 64)        18496     \n",
      "_________________________________________________________________\n",
      "conv2d_7 (Conv2D)            (None, 25, 25, 64)        36928     \n",
      "_________________________________________________________________\n",
      "conv2d_8 (Conv2D)            (None, 25, 25, 32)        18464     \n",
      "_________________________________________________________________\n",
      "max_pooling2d_4 (MaxPooling2 (None, 12, 12, 32)        0         \n",
      "_________________________________________________________________\n",
      "flatten_2 (Flatten)          (None, 4608)              0         \n",
      "_________________________________________________________________\n",
      "dropout_1 (Dropout)          (None, 4608)              0         \n",
      "_________________________________________________________________\n",
      "dense_1 (Dense)              (None, 128)               589952    \n",
      "_________________________________________________________________\n",
      "dropout_2 (Dropout)          (None, 128)               0         \n",
      "_________________________________________________________________\n",
      "dense_2 (Dense)              (None, 1)                 129       \n",
      "=================================================================\n",
      "Total params: 664,865\n",
      "Trainable params: 664,865\n",
      "Non-trainable params: 0\n",
      "_________________________________________________________________\n"
     ]
    }
   ],
   "source": [
    "data_format = 'channels_last'\n",
    "\n",
    "#Building model\n",
    "model = Sequential()\n",
    "\n",
    "#Block1\n",
    "model.add(Conv2D(c_1, kernel_size=(k_1, k_1), input_shape=x_train.shape[1:], activation='relu', padding='same'))\n",
    "model.add(MaxPooling2D(pool_size=(m_1,m_1)))\n",
    "\n",
    "#Block2\n",
    "model.add(Conv2D(c_2, kernel_size=(k_2, k_2), activation='relu', padding='same'))\n",
    "\n",
    "#Block3\n",
    "model.add(Conv2D(c_3, kernel_size=(k_3, k_3), activation='relu', padding='same'))\n",
    "\n",
    "#Block4\n",
    "model.add(Conv2D(c_4, kernel_size=(k_4, k_4), activation='relu', padding='same'))\n",
    "model.add(MaxPooling2D(pool_size=(m_4,m_4)))\n",
    "\n",
    "#Block5\n",
    "model.add(Flatten())\n",
    "model.add(Dropout(d_1))\n",
    "model.add(Dense(128, activation='relu'))\n",
    "\n",
    "#Block6\n",
    "model.add(Dropout(d_2))\n",
    "model.add(Dense(1, activation='sigmoid'))\n",
    "\n",
    "#Compiling the model\n",
    "model.compile(keras.optimizers.Adam(), loss=keras.losses.binary_crossentropy, metrics=['accuracy'])\n",
    "\n",
    "keras.utils.print_summary(model)"
   ]
  },
  {
   "cell_type": "code",
   "execution_count": 6,
   "metadata": {},
   "outputs": [
    {
     "name": "stdout",
     "output_type": "stream",
     "text": [
      "WARNING:tensorflow:From C:\\Users\\sahil\\Anaconda3\\envs\\deeplearning\\lib\\site-packages\\tensorflow\\python\\ops\\math_ops.py:3066: to_int32 (from tensorflow.python.ops.math_ops) is deprecated and will be removed in a future version.\n",
      "Instructions for updating:\n",
      "Use tf.cast instead.\n",
      "Train on 22048 samples, validate on 5510 samples\n",
      "Epoch 1/25\n",
      "22048/22048 [==============================] - 59s 3ms/step - loss: 0.7019 - acc: 0.5312 - val_loss: 0.7055 - val_acc: 0.5002\n",
      "Epoch 2/25\n",
      "22048/22048 [==============================] - 54s 2ms/step - loss: 0.6917 - acc: 0.5290 - val_loss: 0.6909 - val_acc: 0.5076\n",
      "Epoch 3/25\n",
      "22048/22048 [==============================] - 54s 2ms/step - loss: 0.6579 - acc: 0.6129 - val_loss: 0.7143 - val_acc: 0.5180\n",
      "Epoch 4/25\n",
      "22048/22048 [==============================] - 54s 2ms/step - loss: 0.6780 - acc: 0.5748 - val_loss: 0.6848 - val_acc: 0.5583\n",
      "Epoch 5/25\n",
      "22048/22048 [==============================] - 54s 2ms/step - loss: 0.6643 - acc: 0.5863 - val_loss: 0.6717 - val_acc: 0.5962\n",
      "Epoch 6/25\n",
      "22048/22048 [==============================] - 54s 2ms/step - loss: 0.6255 - acc: 0.6529 - val_loss: 0.9351 - val_acc: 0.5114\n",
      "Epoch 7/25\n",
      "22048/22048 [==============================] - 54s 2ms/step - loss: 0.6325 - acc: 0.6455 - val_loss: 0.6526 - val_acc: 0.6140\n",
      "Epoch 8/25\n",
      "22048/22048 [==============================] - 54s 2ms/step - loss: 0.5891 - acc: 0.6828 - val_loss: 0.6970 - val_acc: 0.6229\n",
      "Epoch 9/25\n",
      "22048/22048 [==============================] - 56s 3ms/step - loss: 0.5697 - acc: 0.7035 - val_loss: 0.6261 - val_acc: 0.6557\n",
      "Epoch 10/25\n",
      "22048/22048 [==============================] - 54s 2ms/step - loss: 0.5546 - acc: 0.7248 - val_loss: 0.6753 - val_acc: 0.6289\n",
      "Epoch 11/25\n",
      "22048/22048 [==============================] - 54s 2ms/step - loss: 0.5101 - acc: 0.7490 - val_loss: 0.5558 - val_acc: 0.7169\n",
      "Epoch 12/25\n",
      "22048/22048 [==============================] - 54s 2ms/step - loss: 0.4658 - acc: 0.7813 - val_loss: 0.5508 - val_acc: 0.7022\n",
      "Epoch 13/25\n",
      "22048/22048 [==============================] - 54s 2ms/step - loss: 0.3927 - acc: 0.8255 - val_loss: 0.4846 - val_acc: 0.7448\n",
      "Epoch 14/25\n",
      "22048/22048 [==============================] - 54s 2ms/step - loss: 0.3720 - acc: 0.8419 - val_loss: 0.3246 - val_acc: 0.8740\n",
      "Epoch 15/25\n",
      "22048/22048 [==============================] - 54s 2ms/step - loss: 0.2570 - acc: 0.9060 - val_loss: 0.2598 - val_acc: 0.8985\n",
      "Epoch 16/25\n",
      "22048/22048 [==============================] - 55s 2ms/step - loss: 0.1957 - acc: 0.9322 - val_loss: 0.1948 - val_acc: 0.9287\n",
      "Epoch 17/25\n",
      "22048/22048 [==============================] - 55s 2ms/step - loss: 0.1644 - acc: 0.9440 - val_loss: 0.1496 - val_acc: 0.9525\n",
      "Epoch 18/25\n",
      "22048/22048 [==============================] - 54s 2ms/step - loss: 0.1556 - acc: 0.9472 - val_loss: 0.2116 - val_acc: 0.9102\n",
      "Epoch 19/25\n",
      "22048/22048 [==============================] - 54s 2ms/step - loss: 0.1507 - acc: 0.9494 - val_loss: 0.1496 - val_acc: 0.9515\n",
      "Epoch 20/25\n",
      "22048/22048 [==============================] - 54s 2ms/step - loss: 0.1411 - acc: 0.9526 - val_loss: 0.1643 - val_acc: 0.9414\n",
      "Epoch 21/25\n",
      "22048/22048 [==============================] - 54s 2ms/step - loss: 0.1346 - acc: 0.9548 - val_loss: 0.1413 - val_acc: 0.9514\n",
      "Epoch 22/25\n",
      "22048/22048 [==============================] - 54s 2ms/step - loss: 0.1278 - acc: 0.9562 - val_loss: 0.1550 - val_acc: 0.9488\n",
      "Epoch 23/25\n",
      "22048/22048 [==============================] - 54s 2ms/step - loss: 0.1283 - acc: 0.9564 - val_loss: 0.1769 - val_acc: 0.9339\n",
      "Epoch 24/25\n",
      "22048/22048 [==============================] - 54s 2ms/step - loss: 0.1271 - acc: 0.9552 - val_loss: 0.1639 - val_acc: 0.9396\n",
      "Epoch 25/25\n",
      "22048/22048 [==============================] - 55s 3ms/step - loss: 0.1204 - acc: 0.9594 - val_loss: 0.1376 - val_acc: 0.9530\n"
     ]
    }
   ],
   "source": [
    "#Number of epochs to train with\n",
    "epoch_num = 25\n",
    "\n",
    "model_log = model.fit(x_train, y_train, epochs=epoch_num, batch_size=2000, verbose=1, validation_data=(x_test, y_test), shuffle=True)"
   ]
  },
  {
   "cell_type": "code",
   "execution_count": 7,
   "metadata": {
    "scrolled": true
   },
   "outputs": [
    {
     "data": {
      "image/png": "[encoded data removed]",
      "text/plain": [
       "<Figure size 432x288 with 1 Axes>"
      ]
     },
     "metadata": {
      "needs_background": "light"
     },
     "output_type": "display_data"
    }
   ],
   "source": [
    "#Plot accuracy vs Epochs\n",
    "plt.plot(model_log.history['acc'])\n",
    "plt.plot(model_log.history['val_acc'])\n",
    "plt.title('model accuracy')\n",
    "plt.ylabel('accuracy')\n",
    "plt.xlabel('epoch')\n",
    "plt.legend(['train', 'test'], loc='upper left')\n",
    "plt.show()\n"
   ]
  },
  {
   "cell_type": "code",
   "execution_count": 32,
   "metadata": {},
   "outputs": [],
   "source": [
    "#Save a Keras model as an .h5 file\n",
    "model.save('malaria_model.h5')"
   ]
  },
  {
   "cell_type": "code",
   "execution_count": 85,
   "metadata": {},
   "outputs": [],
   "source": [
    "#Load a Keras model from a .h5 file\n",
    "model = load_model('malaria_model.h5')"
   ]
  },
  {
   "cell_type": "code",
   "execution_count": 8,
   "metadata": {},
   "outputs": [
    {
     "name": "stdout",
     "output_type": "stream",
     "text": [
      "Prediction: \n",
      "[[0.9999883]]\n",
      "\n",
      "Correct: \n",
      "1\n"
     ]
    },
    {
     "data": {
      "image/png": "[encoded data removed]",
      "text/plain": [
       "<Figure size 432x288 with 1 Axes>"
      ]
     },
     "metadata": {
      "needs_background": "light"
     },
     "output_type": "display_data"
    }
   ],
   "source": [
    "#Shows the image and prediction for the 'view_num' element of the test set.\n",
    "view_num = 100\n",
    "\n",
    "print('Prediction: ')\n",
    "print(model.predict(x_test[view_num:view_num+1]))\n",
    "print()\n",
    "print('Correct: ')\n",
    "print(y_test[view_num])\n",
    "\n",
    "#Displays the image\n",
    "img = Image.fromarray((X_test.reshape(X_test.shape[0], 50, 50, 3))[view_num], 'RGB')\n",
    "im_array = np.asarray(img)\n",
    "plt.imshow(im_array)\n",
    "plt.show()\n"
   ]
  },
  {
   "cell_type": "code",
   "execution_count": null,
   "metadata": {},
   "outputs": [],
   "source": []
  }
 ],
 "metadata": {
  "kernelspec": {
   "display_name": "Python 3",
   "language": "python",
   "name": "python3"
  },
  "language_info": {
   "codemirror_mode": {
    "name": "ipython",
    "version": 3
   },
   "file_extension": ".py",
   "mimetype": "text/x-python",
   "name": "python",
   "nbconvert_exporter": "python",
   "pygments_lexer": "ipython3",
   "version": "3.6.8"
  }
 },
 "nbformat": 4,
 "nbformat_minor": 2
}
