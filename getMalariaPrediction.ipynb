{
 "cells": [
  {
   "cell_type": "code",
   "execution_count": null,
   "metadata": {},
   "outputs": [],
   "source": [
    "import keras\n",
    "from keras.models import load_model\n",
    "from keras import backend as K\n",
    "from PIL import Image\n",
    "\n",
    "model = load_model('malaria_model.h5')\n",
    "\n",
    "def processImage(image_path, image_name):\n",
    "    img = Image.open(image_path+image_name)\n",
    "    img = img.resize((50,50),resample=0)\n",
    "    numpyAr = np.array(img).reshape(1,50,50,3)\n",
    "    return numpyAr\n",
    "    \n",
    "\n",
    "def getPrediction(numpyArr):\n",
    "    if(model.predict(x=numpyArr)>.5):\n",
    "        return True\n",
    "    else:\n",
    "        return False\n"
   ]
  }
 ],
 "metadata": {
  "kernelspec": {
   "display_name": "Python 3",
   "language": "python",
   "name": "python3"
  },
  "language_info": {
   "codemirror_mode": {
    "name": "ipython",
    "version": 3
   },
   "file_extension": ".py",
   "mimetype": "text/x-python",
   "name": "python",
   "nbconvert_exporter": "python",
   "pygments_lexer": "ipython3",
   "version": "3.6.8"
  }
 },
 "nbformat": 4,
 "nbformat_minor": 2
}
